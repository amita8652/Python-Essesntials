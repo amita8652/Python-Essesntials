{
 "cells": [
  {
   "cell_type": "markdown",
   "id": "2441dc1f-494b-430b-8a8a-48c86d70d853",
   "metadata": {},
   "source": [
    "### Print Statement"
   ]
  },
  {
   "cell_type": "code",
   "execution_count": 7,
   "id": "0751f2db-b09f-458c-8ed2-9eba459ba6f2",
   "metadata": {},
   "outputs": [
    {
     "name": "stdout",
     "output_type": "stream",
     "text": [
      "Hello World\n"
     ]
    }
   ],
   "source": [
    "print(\"Hello World\")"
   ]
  },
  {
   "cell_type": "markdown",
   "id": "20d7ffb5-39f1-48de-9b33-b437009b2b7f",
   "metadata": {},
   "source": [
    "### Basic Arithmentic"
   ]
  },
  {
   "cell_type": "code",
   "execution_count": 8,
   "id": "baf74593-b551-4d48-b042-f08900fc9d6e",
   "metadata": {},
   "outputs": [
    {
     "name": "stdout",
     "output_type": "stream",
     "text": [
      "50\n",
      "10\n",
      "600\n",
      "1.5\n",
      "10\n"
     ]
    }
   ],
   "source": [
    "a=30\n",
    "b=20\n",
    "print(a+b)\n",
    "print(a-b)\n",
    "print(a*b)\n",
    "print(a/b)   #gives quotient\n",
    "print(a%b)   #gives reminder"
   ]
  },
  {
   "cell_type": "markdown",
   "id": "b4410c1b-229c-441d-a7f7-442beeab9d1f",
   "metadata": {},
   "source": [
    "### Data types in python"
   ]
  },
  {
   "cell_type": "raw",
   "id": "8b38a4fe-4deb-4db3-a894-744c9ccda6b3",
   "metadata": {},
   "source": [
    "Integer\n",
    "Float\n",
    "String\n",
    "Boolean\n",
    "Complex"
   ]
  },
  {
   "cell_type": "markdown",
   "id": "250d861d-2a18-475a-af18-1a760f229e60",
   "metadata": {},
   "source": [
    "### Checking data type"
   ]
  },
  {
   "cell_type": "code",
   "execution_count": 19,
   "id": "29ca9c15-c8a0-48e4-8cea-b90bd23eef88",
   "metadata": {},
   "outputs": [
    {
     "name": "stdout",
     "output_type": "stream",
     "text": [
      "<class 'complex'>\n",
      "23.0\n",
      "8.0\n"
     ]
    }
   ],
   "source": [
    "a=8j+23\n",
    "print(type(a))\n",
    "print(a.real)     #To get real value of complex no.\n",
    "print(a.imag)     #To get imaginary value of complex no."
   ]
  },
  {
   "cell_type": "code",
   "execution_count": 20,
   "id": "107827a2-6fa3-4d35-a4c0-38076dd572c3",
   "metadata": {},
   "outputs": [
    {
     "data": {
      "text/plain": [
       "int"
      ]
     },
     "execution_count": 20,
     "metadata": {},
     "output_type": "execute_result"
    }
   ],
   "source": [
    "b=45\n",
    "type(b)"
   ]
  },
  {
   "cell_type": "code",
   "execution_count": 21,
   "id": "d4590394-86c6-4cc8-879b-d815777670dc",
   "metadata": {},
   "outputs": [
    {
     "data": {
      "text/plain": [
       "str"
      ]
     },
     "execution_count": 21,
     "metadata": {},
     "output_type": "execute_result"
    }
   ],
   "source": [
    "c=\"Amita\"\n",
    "type(c)"
   ]
  },
  {
   "cell_type": "markdown",
   "id": "f8ca9097-4042-4a80-a588-c02b9e959e59",
   "metadata": {},
   "source": [
    "### String Concatenation"
   ]
  },
  {
   "cell_type": "code",
   "execution_count": 38,
   "id": "2c2e6127-e4ef-4f81-9798-67455675e828",
   "metadata": {},
   "outputs": [
    {
     "name": "stdout",
     "output_type": "stream",
     "text": [
      "My name is  Amita Nikam\n",
      "My name is Amita Nikam\n",
      "My name is Amita Nikam\n"
     ]
    }
   ],
   "source": [
    "name = \"Amita\"\n",
    "surname = \"Nikam\"\n",
    "print(\"My name is \",name,surname)\n",
    "print(f\"My name is {name} {surname}\")  ### 'f' means formatted string method\n",
    "print(\"My name is {} {}\".format(name,surname)) "
   ]
  },
  {
   "cell_type": "code",
   "execution_count": 26,
   "id": "f0006fec-93aa-4eb1-847a-a5abe265b061",
   "metadata": {},
   "outputs": [
    {
     "data": {
      "text/plain": [
       "'2034'"
      ]
     },
     "execution_count": 26,
     "metadata": {},
     "output_type": "execute_result"
    }
   ],
   "source": [
    "a=\"20\"\n",
    "b=\"34\"\n",
    "a+b"
   ]
  },
  {
   "cell_type": "code",
   "execution_count": null,
   "id": "f5c73c1c-98a6-4ca4-8d3b-d0cd4617c346",
   "metadata": {},
   "outputs": [],
   "source": []
  }
 ],
 "metadata": {
  "kernelspec": {
   "display_name": "Python 3 (ipykernel)",
   "language": "python",
   "name": "python3"
  },
  "language_info": {
   "codemirror_mode": {
    "name": "ipython",
    "version": 3
   },
   "file_extension": ".py",
   "mimetype": "text/x-python",
   "name": "python",
   "nbconvert_exporter": "python",
   "pygments_lexer": "ipython3",
   "version": "3.10.6"
  }
 },
 "nbformat": 4,
 "nbformat_minor": 5
}
